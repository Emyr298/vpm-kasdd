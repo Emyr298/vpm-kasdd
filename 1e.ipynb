{
 "cells": [
  {
   "cell_type": "markdown",
   "metadata": {},
   "source": [
    "# KASDD TK | a\n",
    "Siapa tim yang paling banyak memenangkan pertandingan grand final dari sebuah Event"
   ]
  },
  {
   "cell_type": "code",
   "execution_count": 2,
   "metadata": {},
   "outputs": [
    {
     "name": "stdout",
     "output_type": "stream",
     "text": [
      "Requirement already satisfied: pandas in c:\\users\\vinse\\desktop\\kuliah\\kasdad\\tk\\env\\lib\\site-packages (2.1.2)\n",
      "Requirement already satisfied: numpy<2,>=1.22.4 in c:\\users\\vinse\\desktop\\kuliah\\kasdad\\tk\\env\\lib\\site-packages (from pandas) (1.26.1)\n",
      "Requirement already satisfied: python-dateutil>=2.8.2 in c:\\users\\vinse\\desktop\\kuliah\\kasdad\\tk\\env\\lib\\site-packages (from pandas) (2.8.2)\n",
      "Requirement already satisfied: pytz>=2020.1 in c:\\users\\vinse\\desktop\\kuliah\\kasdad\\tk\\env\\lib\\site-packages (from pandas) (2023.3.post1)\n",
      "Requirement already satisfied: tzdata>=2022.1 in c:\\users\\vinse\\desktop\\kuliah\\kasdad\\tk\\env\\lib\\site-packages (from pandas) (2023.3)\n",
      "Requirement already satisfied: six>=1.5 in c:\\users\\vinse\\desktop\\kuliah\\kasdad\\tk\\env\\lib\\site-packages (from python-dateutil>=2.8.2->pandas) (1.16.0)\n",
      "Note: you may need to restart the kernel to use updated packages.\n"
     ]
    },
    {
     "name": "stderr",
     "output_type": "stream",
     "text": [
      "\n",
      "[notice] A new release of pip is available: 23.2.1 -> 23.3.1\n",
      "[notice] To update, run: python.exe -m pip install --upgrade pip\n"
     ]
    },
    {
     "name": "stdout",
     "output_type": "stream",
     "text": [
      "Requirement already satisfied: numpy in c:\\users\\vinse\\desktop\\kuliah\\kasdad\\tk\\env\\lib\\site-packages (1.26.1)\n",
      "Note: you may need to restart the kernel to use updated packages.\n"
     ]
    },
    {
     "name": "stderr",
     "output_type": "stream",
     "text": [
      "\n",
      "[notice] A new release of pip is available: 23.2.1 -> 23.3.1\n",
      "[notice] To update, run: python.exe -m pip install --upgrade pip\n"
     ]
    },
    {
     "name": "stdout",
     "output_type": "stream",
     "text": [
      "Requirement already satisfied: scipy in c:\\users\\vinse\\desktop\\kuliah\\kasdad\\tk\\env\\lib\\site-packages (1.11.3)\n",
      "Requirement already satisfied: numpy<1.28.0,>=1.21.6 in c:\\users\\vinse\\desktop\\kuliah\\kasdad\\tk\\env\\lib\\site-packages (from scipy) (1.26.1)\n",
      "Note: you may need to restart the kernel to use updated packages.\n"
     ]
    },
    {
     "name": "stderr",
     "output_type": "stream",
     "text": [
      "\n",
      "[notice] A new release of pip is available: 23.2.1 -> 23.3.1\n",
      "[notice] To update, run: python.exe -m pip install --upgrade pip\n"
     ]
    },
    {
     "name": "stdout",
     "output_type": "stream",
     "text": [
      "Requirement already satisfied: pandas in c:\\users\\vinse\\desktop\\kuliah\\kasdad\\tk\\env\\lib\\site-packages (2.1.2)\n",
      "Requirement already satisfied: numpy in c:\\users\\vinse\\desktop\\kuliah\\kasdad\\tk\\env\\lib\\site-packages (1.26.1)\n",
      "Requirement already satisfied: seaborn in c:\\users\\vinse\\desktop\\kuliah\\kasdad\\tk\\env\\lib\\site-packages (0.13.0)\n",
      "Requirement already satisfied: scipy in c:\\users\\vinse\\desktop\\kuliah\\kasdad\\tk\\env\\lib\\site-packages (1.11.3)\n",
      "Requirement already satisfied: plotly in c:\\users\\vinse\\desktop\\kuliah\\kasdad\\tk\\env\\lib\\site-packages (5.18.0)\n",
      "Requirement already satisfied: matplotlib in c:\\users\\vinse\\desktop\\kuliah\\kasdad\\tk\\env\\lib\\site-packages (3.8.1)\n",
      "Requirement already satisfied: python-dateutil>=2.8.2 in c:\\users\\vinse\\desktop\\kuliah\\kasdad\\tk\\env\\lib\\site-packages (from pandas) (2.8.2)\n",
      "Requirement already satisfied: pytz>=2020.1 in c:\\users\\vinse\\desktop\\kuliah\\kasdad\\tk\\env\\lib\\site-packages (from pandas) (2023.3.post1)\n",
      "Requirement already satisfied: tzdata>=2022.1 in c:\\users\\vinse\\desktop\\kuliah\\kasdad\\tk\\env\\lib\\site-packages (from pandas) (2023.3)\n",
      "Requirement already satisfied: tenacity>=6.2.0 in c:\\users\\vinse\\desktop\\kuliah\\kasdad\\tk\\env\\lib\\site-packages (from plotly) (8.2.3)\n",
      "Requirement already satisfied: packaging in c:\\users\\vinse\\desktop\\kuliah\\kasdad\\tk\\env\\lib\\site-packages (from plotly) (23.2)\n",
      "Requirement already satisfied: contourpy>=1.0.1 in c:\\users\\vinse\\desktop\\kuliah\\kasdad\\tk\\env\\lib\\site-packages (from matplotlib) (1.2.0)\n",
      "Requirement already satisfied: cycler>=0.10 in c:\\users\\vinse\\desktop\\kuliah\\kasdad\\tk\\env\\lib\\site-packages (from matplotlib) (0.12.1)\n",
      "Requirement already satisfied: fonttools>=4.22.0 in c:\\users\\vinse\\desktop\\kuliah\\kasdad\\tk\\env\\lib\\site-packages (from matplotlib) (4.44.0)\n",
      "Requirement already satisfied: kiwisolver>=1.3.1 in c:\\users\\vinse\\desktop\\kuliah\\kasdad\\tk\\env\\lib\\site-packages (from matplotlib) (1.4.5)\n",
      "Requirement already satisfied: pillow>=8 in c:\\users\\vinse\\desktop\\kuliah\\kasdad\\tk\\env\\lib\\site-packages (from matplotlib) (10.1.0)\n",
      "Requirement already satisfied: pyparsing>=2.3.1 in c:\\users\\vinse\\desktop\\kuliah\\kasdad\\tk\\env\\lib\\site-packages (from matplotlib) (3.1.1)\n",
      "Requirement already satisfied: six>=1.5 in c:\\users\\vinse\\desktop\\kuliah\\kasdad\\tk\\env\\lib\\site-packages (from python-dateutil>=2.8.2->pandas) (1.16.0)\n",
      "Note: you may need to restart the kernel to use updated packages.\n"
     ]
    },
    {
     "name": "stderr",
     "output_type": "stream",
     "text": [
      "\n",
      "[notice] A new release of pip is available: 23.2.1 -> 23.3.1\n",
      "[notice] To update, run: python.exe -m pip install --upgrade pip\n"
     ]
    }
   ],
   "source": [
    "%pip install pandas\n",
    "%pip install numpy\n",
    "%pip install scipy\n",
    "%pip install pandas numpy seaborn scipy plotly matplotlib   "
   ]
  },
  {
   "cell_type": "code",
   "execution_count": 3,
   "metadata": {},
   "outputs": [],
   "source": [
    "REFERENCE = [\n",
    "    'https://pandas.pydata.org/pandas-docs/stable/user_guide/indexing.html#returning-a-view-versus-a-copy',\n",
    "    \n",
    "    ]"
   ]
  },
  {
   "cell_type": "code",
   "execution_count": 4,
   "metadata": {},
   "outputs": [],
   "source": [
    "# Import semua library yang dibutuhkan\n",
    "import pandas as pd\n",
    "import numpy as np\n",
    "import scipy.stats as scp\n",
    "import seaborn as sns\n",
    "import plotly.express as px\n",
    "import matplotlib.pyplot as plt"
   ]
  },
  {
   "cell_type": "code",
   "execution_count": 5,
   "metadata": {},
   "outputs": [],
   "source": [
    "# mencari jumlah nilai unik pada kolom yang bertipe kategorik\n",
    "def check_uniqueness(df):\n",
    "    for col in df.select_dtypes(include=object).columns:\n",
    "        print('No. of unique values in column '+col+':')\n",
    "        print(df[col].value_counts(),'\\n')\n",
    "        \n",
    "# mengecek nilai null\n",
    "def check_null(df):\n",
    "    col_na = df.isnull().sum().sort_values(ascending=True)\n",
    "    percent = col_na / len(df)\n",
    "    missing_data = pd.concat([col_na, percent], axis=1, keys=['Total', 'Percent'])\n",
    "\n",
    "    if (missing_data[missing_data['Total'] > 0].shape[0] == 0):\n",
    "        print(\"Tidak ditemukan missing value pada dataset\")\n",
    "    else:\n",
    "        print(missing_data[missing_data['Total'] > 0])\n",
    "\n",
    "# mengecek nilai duplikat\n",
    "def check_duplicates(df):\n",
    "    dup = df.duplicated()\n",
    "    print(\"Jumlah duplikasi data : \" + str(dup.sum()))\n",
    "\n",
    "# mengecek keberadaan outlier (harus numerik)\n",
    "def check_outlier(df):\n",
    "    Q1 = df.quantile(0.25)\n",
    "    Q3 = df.quantile(0.75)\n",
    "\n",
    "    # Menghitung RUB dan RLB.\n",
    "    IQR = Q3 - Q1\n",
    "    lower_limit = Q1 - 1.5*IQR\n",
    "    upper_limit = Q3 + 1.5*IQR\n",
    "\n",
    "    # Menampilkan banyaknya outlier pada atribut.\n",
    "    outliers = (df < lower_limit) | (df > upper_limit)\n",
    "    print (\"Outlier pada tiap atribut:\")\n",
    "    print(outliers.sum())\n",
    "    \n",
    "    print(\"Persentase outlier terhadap data per kolom\")\n",
    "    for col in outliers.keys():\n",
    "        percentage = outliers[col] / len(df)\n",
    "        print(col)\n",
    "        print(percentage)\n",
    "        print()\n",
    "\n",
    "    return outliers\n",
    "\n",
    "# Cek nilai outlier & mengembalikan list nama kolom dengan outlier\n",
    "def outlier_col(dict, total_data):\n",
    "    outlier_col = []\n",
    "\n",
    "    print(\"Persentase outlier terhadap data per kolom\")\n",
    "    for col in dict.keys():\n",
    "        percentage = dic[col] / total_data\n",
    "        if 0 < percentage < 1:\n",
    "            outlier_col.append(col)\n",
    "    return outlier_col\n",
    "\n",
    "def drop_outlier(col_to_check, df):\n",
    "    Q1 = df[col_to_check].quantile(0.25)\n",
    "    Q3 = df[col_to_check].quantile(0.75)\n",
    "\n",
    "    # Menghitung RUB dan RLB.\n",
    "    IQR = Q3 - Q1\n",
    "    lower_limit = Q1 - 1.5*IQR\n",
    "    upper_limit = Q3 + 1.5*IQR\n",
    "\n",
    "    mask = (df[col_to_check] >= lower_limit) & (df[col_to_check] <= upper_limit)\n",
    "    new_df = df[mask]\n",
    "    return new_df"
   ]
  },
  {
   "cell_type": "code",
   "execution_count": 6,
   "metadata": {},
   "outputs": [],
   "source": [
    "# Import dataset\n",
    "games = pd.read_csv('games.csv')\n",
    "matches = pd.read_csv('matches.csv')"
   ]
  },
  {
   "cell_type": "markdown",
   "metadata": {},
   "source": [
    "## Pre-processing"
   ]
  },
  {
   "cell_type": "markdown",
   "metadata": {},
   "source": [
    "### games.csv"
   ]
  },
  {
   "cell_type": "code",
   "execution_count": 7,
   "metadata": {},
   "outputs": [
    {
     "data": {
      "text/plain": [
       "Index(['No', 'GameID', 'MatchID', 'Map', 'Team1ID', 'Team2ID', 'Team1',\n",
       "       'Team2', 'Winner', 'Team1_Eco', 'Team1_SemiEco', 'Team1_SemiBuy',\n",
       "       'Team1_FullBuy', 'Team1_TotalRounds', 'Team2_Eco', 'Team2_SemiEco',\n",
       "       'Team2_SemiBuy', 'Team2_FullBuy', 'Team2_TotalRounds'],\n",
       "      dtype='object')"
      ]
     },
     "execution_count": 7,
     "metadata": {},
     "output_type": "execute_result"
    }
   ],
   "source": [
    "games.columns"
   ]
  },
  {
   "cell_type": "code",
   "execution_count": 8,
   "metadata": {},
   "outputs": [],
   "source": [
    "# check null\n",
    "# check_null(games)\n",
    "# games = games.dropna()\n",
    "# print()\n",
    "# check_null(games)\n"
   ]
  },
  {
   "cell_type": "code",
   "execution_count": 9,
   "metadata": {},
   "outputs": [
    {
     "name": "stdout",
     "output_type": "stream",
     "text": [
      "Jumlah duplikasi data : 0\n"
     ]
    }
   ],
   "source": [
    "# check duplicate\n",
    "check_duplicates(games)"
   ]
  },
  {
   "cell_type": "code",
   "execution_count": 10,
   "metadata": {},
   "outputs": [
    {
     "data": {
      "text/plain": [
       "Index(['GameID', 'MatchID', 'Map'], dtype='object')"
      ]
     },
     "execution_count": 10,
     "metadata": {},
     "output_type": "execute_result"
    }
   ],
   "source": [
    "mask = ['GameID', 'MatchID', 'Map']\n",
    "games = games[mask]\n",
    "games.columns"
   ]
  },
  {
   "cell_type": "markdown",
   "metadata": {},
   "source": [
    "### matches.csv"
   ]
  },
  {
   "cell_type": "code",
   "execution_count": 11,
   "metadata": {},
   "outputs": [
    {
     "data": {
      "text/plain": [
       "Index(['No', 'MatchID', 'Date', 'Patch', 'EventID', 'EventName', 'EventStage',\n",
       "       'Team1ID', 'Team2ID', 'Team1', 'Team2', 'Team1_MapScore',\n",
       "       'Team2_MapScore'],\n",
       "      dtype='object')"
      ]
     },
     "execution_count": 11,
     "metadata": {},
     "output_type": "execute_result"
    }
   ],
   "source": [
    "matches.columns"
   ]
  },
  {
   "cell_type": "code",
   "execution_count": 12,
   "metadata": {},
   "outputs": [
    {
     "name": "stdout",
     "output_type": "stream",
     "text": [
      "       Total   Percent\n",
      "Patch    411  0.064209\n",
      "\n",
      "Tidak ditemukan missing value pada dataset\n"
     ]
    }
   ],
   "source": [
    "# check null\n",
    "check_null(matches)\n",
    "matches = matches.dropna()\n",
    "print()\n",
    "check_null(matches)"
   ]
  },
  {
   "cell_type": "code",
   "execution_count": 13,
   "metadata": {},
   "outputs": [
    {
     "name": "stdout",
     "output_type": "stream",
     "text": [
      "Jumlah duplikasi data : 0\n"
     ]
    }
   ],
   "source": [
    "# check duplicate\n",
    "check_duplicates(matches)"
   ]
  },
  {
   "cell_type": "code",
   "execution_count": 14,
   "metadata": {},
   "outputs": [
    {
     "data": {
      "text/plain": [
       "Index(['No', 'MatchID', 'Date', 'Patch', 'EventID', 'EventName', 'EventStage',\n",
       "       'Team1ID', 'Team2ID', 'Team1', 'Team2', 'Team1_MapScore',\n",
       "       'Team2_MapScore'],\n",
       "      dtype='object')"
      ]
     },
     "execution_count": 14,
     "metadata": {},
     "output_type": "execute_result"
    }
   ],
   "source": [
    "matches.columns"
   ]
  },
  {
   "cell_type": "code",
   "execution_count": 15,
   "metadata": {},
   "outputs": [
    {
     "data": {
      "text/plain": [
       "Index(['MatchID', 'Patch', 'EventID', 'EventName', 'EventStage'], dtype='object')"
      ]
     },
     "execution_count": 15,
     "metadata": {},
     "output_type": "execute_result"
    }
   ],
   "source": [
    "mask2 = ['MatchID', 'Patch', 'EventID', 'EventName', 'EventStage']\n",
    "matches = matches[mask2]\n",
    "matches.columns"
   ]
  },
  {
   "cell_type": "markdown",
   "metadata": {},
   "source": [
    "## Analyzing"
   ]
  },
  {
   "cell_type": "code",
   "execution_count": 16,
   "metadata": {},
   "outputs": [
    {
     "data": {
      "text/plain": [
       "Patch\n",
       "Patch 1.12Minor updates to observing                                                                                                                                                                                                                                                                                                                                                                                                                                                                                                         485\n",
       "Patch 3.0                                                                                                                                                                                                                                                                                                                                                                                                                                                                                                                                    375\n",
       "Patch 3.09                                                                                                                                                                                                                                                                                                                                                                                                                                                                                                                                   318\n",
       "Patch 1.14Changes to Icebox, Sage, and spectating.                                                                                                                                                                                                                                                                                                                                                                                                                                                                                           318\n",
       "Patch 2.05                                                                                                                                                                                                                                                                                                                                                                                                                                                                                                                                   259\n",
       "Patch 2.02Running accuracy changes                                                                                                                                                                                                                                                                                                                                                                                                                                                                                                           238\n",
       "Patch 2.01Split overhaul patch                                                                                                                                                                                                                                                                                                                                                                                                                                                                                                               230\n",
       "Patch 3.01                                                                                                                                                                                                                                                                                                                                                                                                                                                                                                                                   230\n",
       "Patch 2.09                                                                                                                                                                                                                                                                                                                                                                                                                                                                                                                                   226\n",
       "Patch 2.03Added Marshal, Yoru, Reyna tweaks                                                                                                                                                                                                                                                                                                                                                                                                                                                                                                  215\n",
       "Patch 1.10Icebox map beta, QoL improvements                                                                                                                                                                                                                                                                                                                                                                                                                                                                                                  201\n",
       "Patch 2.11                                                                                                                                                                                                                                                                                                                                                                                                                                                                                                                                   200\n",
       "Patch 3.02                                                                                                                                                                                                                                                                                                                                                                                                                                                                                                                                   183\n",
       "Patch 2.07                                                                                                                                                                                                                                                                                                                                                                                                                                                                                                                                   182\n",
       "Patch 3.12                                                                                                                                                                                                                                                                                                                                                                                                                                                                                                                                   170\n",
       "Patch 3.08                                                                                                                                                                                                                                                                                                                                                                                                                                                                                                                                   144\n",
       "Patch 3.10                                                                                                                                                                                                                                                                                                                                                                                                                                                                                                                                   134\n",
       "Patch 1.09Operator nerfs, Agent tweaksJump accuracy changes                                                                                                                                                                                                                                                                                                                                                                                                                                                                                  132\n",
       "Patch 1.08Guardian buffs, Raze changes                                                                                                                                                                                                                                                                                                                                                                                                                                                                                                       129\n",
       "Patch 3.07                                                                                                                                                                                                                                                                                                                                                                                                                                                                                                                                   123\n",
       "Patch 2.06Viper and Yoru buffsHRTF Audio                                                                                                                                                                                                                                                                                                                                                                                                                                                                                                     122\n",
       "Patch 3.04                                                                                                                                                                                                                                                                                                                                                                                                                                                                                                                                   115\n",
       "Patch 3.06                                                                                                                                                                                                                                                                                                                                                                                                                                                                                                                                   108\n",
       "Patch 2.04Added Astra                                                                                                                                                                                                                                                                                                                                                                                                                                                                                                                        107\n",
       "Patch 1.04Viper buffs, Brimstone and Raze ult nerfs                                                                                                                                                                                                                                                                                                                                                                                                                                                                                          106\n",
       "Patch 2.0Added YoruAdded Brimstone buffsAdded Omen, Classic nerfs                                                                                                                                                                                                                                                                                                                                                                                                                                                                            101\n",
       "Patch 1.07Sage, Killjoy, and shotgun nerfsViper, Breach, and Vandal buffs                                                                                                                                                                                                                                                                                                                                                                                                                                                                     96\n",
       "Patch 1.05Added Killjoy, Deathmatch mode, Raze nerfs                                                                                                                                                                                                                                                                                                                                                                                                                                                                                          94\n",
       "Patch 3.03                                                                                                                                                                                                                                                                                                                                                                                                                                                                                                                                    91\n",
       "Patch 1.02                                                                                                                                                                                                                                                                                                                                                                                                                                                                                                                                    84\n",
       "Patch 2.08Breeze added; Coaching slots                                                                                                                                                                                                                                                                                                                                                                                                                                                                                                        79\n",
       "Patch 1.03                                                                                                                                                                                                                                                                                                                                                                                                                                                                                                                                    75\n",
       "Patch 1.06Nerfs to shotguns and blinding effects                                                                                                                                                                                                                                                                                                                                                                                                                                                                                              70\n",
       "Patch 1.01Sage nerf - Barrier Orb cast range reduction: 20 m to 10 m                                                                                                                                                                                                                                                                                                                                                                                                                                                                          58\n",
       "Patch 1.11Added Skye; added Icebox to map rotationAdded Cypher and Killjoy nerfs                                                                                                                                                                                                                                                                                                                                                                                                                                                              57\n",
       "Patch 0.50Walking accuracy no longer granted when transitioning from run to stopBuffed Rifle recovery timesBuffed Machine Guns (Ares, Odin)Sage Slow Orb, Cyber Cage and Spycam nerfsOmen Dark Cover and Viper Snake Bite buffsB-hopping through area denial abilities now takes damageIncreased credit cost of Sage Barrier Orb, Raze Blast Pack, Phoenix Curveball, Brimstone IncendiaryReduced credit cost of Jett UpdraftAgent armor from previous round no longer destroyed on purchasing new armorCredit cap reduced from 12k to 9      50\n",
       "Patch 3.05                                                                                                                                                                                                                                                                                                                                                                                                                                                                                                                                    47\n",
       "Patch 0.49Omen is now immediately vulnerable after leaving shadow formOmen's From the Shadows sound attenuation radius reduced to 2250Sage's Barrier Orb now only spawns barrier chunks on ground and boxesAdded Competitive mode and ranked matchmaking                                                                                                                                                                                                                                                                                      36\n",
       "Patch 1.0                                                                                                                                                                                                                                                                                                                                                                                                                                                                                                                                      2\n",
       "Name: count, dtype: int64"
      ]
     },
     "execution_count": 16,
     "metadata": {},
     "output_type": "execute_result"
    }
   ],
   "source": [
    "matches['Patch'].value_counts()"
   ]
  },
  {
   "cell_type": "code",
   "execution_count": 17,
   "metadata": {},
   "outputs": [
    {
     "data": {
      "text/plain": [
       "Index(['GameID', 'MatchID', 'Map', 'Patch', 'EventID', 'EventName',\n",
       "       'EventStage'],\n",
       "      dtype='object')"
      ]
     },
     "execution_count": 17,
     "metadata": {},
     "output_type": "execute_result"
    }
   ],
   "source": [
    "dfTour = games.merge(matches, left_on='MatchID', right_on='MatchID')\n",
    "dfTour.columns"
   ]
  },
  {
   "cell_type": "code",
   "execution_count": 18,
   "metadata": {},
   "outputs": [
    {
     "data": {
      "text/html": [
       "<div>\n",
       "<style scoped>\n",
       "    .dataframe tbody tr th:only-of-type {\n",
       "        vertical-align: middle;\n",
       "    }\n",
       "\n",
       "    .dataframe tbody tr th {\n",
       "        vertical-align: top;\n",
       "    }\n",
       "\n",
       "    .dataframe thead th {\n",
       "        text-align: right;\n",
       "    }\n",
       "</style>\n",
       "<table border=\"1\" class=\"dataframe\">\n",
       "  <thead>\n",
       "    <tr style=\"text-align: right;\">\n",
       "      <th></th>\n",
       "      <th>GameID</th>\n",
       "      <th>MatchID</th>\n",
       "      <th>Map</th>\n",
       "      <th>Patch</th>\n",
       "      <th>EventID</th>\n",
       "      <th>EventName</th>\n",
       "      <th>EventStage</th>\n",
       "    </tr>\n",
       "  </thead>\n",
       "  <tbody>\n",
       "    <tr>\n",
       "      <th>0</th>\n",
       "      <td>60894</td>\n",
       "      <td>62393</td>\n",
       "      <td>Breeze</td>\n",
       "      <td>3.0</td>\n",
       "      <td>826</td>\n",
       "      <td>Nerd Street Gamers Winter Championship - Regio...</td>\n",
       "      <td>Group Stage: Decider (A)</td>\n",
       "    </tr>\n",
       "    <tr>\n",
       "      <th>1</th>\n",
       "      <td>60895</td>\n",
       "      <td>62393</td>\n",
       "      <td>Bind</td>\n",
       "      <td>3.0</td>\n",
       "      <td>826</td>\n",
       "      <td>Nerd Street Gamers Winter Championship - Regio...</td>\n",
       "      <td>Group Stage: Decider (A)</td>\n",
       "    </tr>\n",
       "    <tr>\n",
       "      <th>2</th>\n",
       "      <td>60896</td>\n",
       "      <td>62393</td>\n",
       "      <td>Haven</td>\n",
       "      <td>3.0</td>\n",
       "      <td>826</td>\n",
       "      <td>Nerd Street Gamers Winter Championship - Regio...</td>\n",
       "      <td>Group Stage: Decider (A)</td>\n",
       "    </tr>\n",
       "    <tr>\n",
       "      <th>3</th>\n",
       "      <td>60924</td>\n",
       "      <td>62403</td>\n",
       "      <td>Icebox</td>\n",
       "      <td>3.0</td>\n",
       "      <td>826</td>\n",
       "      <td>Nerd Street Gamers Winter Championship - Regio...</td>\n",
       "      <td>Group Stage: Decider (C)</td>\n",
       "    </tr>\n",
       "    <tr>\n",
       "      <th>4</th>\n",
       "      <td>60925</td>\n",
       "      <td>62403</td>\n",
       "      <td>Haven</td>\n",
       "      <td>3.0</td>\n",
       "      <td>826</td>\n",
       "      <td>Nerd Street Gamers Winter Championship - Regio...</td>\n",
       "      <td>Group Stage: Decider (C)</td>\n",
       "    </tr>\n",
       "    <tr>\n",
       "      <th>...</th>\n",
       "      <td>...</td>\n",
       "      <td>...</td>\n",
       "      <td>...</td>\n",
       "      <td>...</td>\n",
       "      <td>...</td>\n",
       "      <td>...</td>\n",
       "      <td>...</td>\n",
       "    </tr>\n",
       "    <tr>\n",
       "      <th>12173</th>\n",
       "      <td>65</td>\n",
       "      <td>48</td>\n",
       "      <td>TBD</td>\n",
       "      <td>0.0</td>\n",
       "      <td>6</td>\n",
       "      <td>Fnatic Proving Grounds</td>\n",
       "      <td>Tournament: Round of 16</td>\n",
       "    </tr>\n",
       "    <tr>\n",
       "      <th>12174</th>\n",
       "      <td>67</td>\n",
       "      <td>50</td>\n",
       "      <td>TBD</td>\n",
       "      <td>0.0</td>\n",
       "      <td>6</td>\n",
       "      <td>Fnatic Proving Grounds</td>\n",
       "      <td>Tournament: Round of 16</td>\n",
       "    </tr>\n",
       "    <tr>\n",
       "      <th>12175</th>\n",
       "      <td>49</td>\n",
       "      <td>33</td>\n",
       "      <td>Split</td>\n",
       "      <td>0.0</td>\n",
       "      <td>1</td>\n",
       "      <td>T1 x Nerd Street Gamers Invitational</td>\n",
       "      <td>Tournament: Lower Final</td>\n",
       "    </tr>\n",
       "    <tr>\n",
       "      <th>12176</th>\n",
       "      <td>43</td>\n",
       "      <td>29</td>\n",
       "      <td>Bind</td>\n",
       "      <td>0.0</td>\n",
       "      <td>1</td>\n",
       "      <td>T1 x Nerd Street Gamers Invitational</td>\n",
       "      <td>Tournament: Lower Round 2</td>\n",
       "    </tr>\n",
       "    <tr>\n",
       "      <th>12177</th>\n",
       "      <td>42</td>\n",
       "      <td>28</td>\n",
       "      <td>Bind</td>\n",
       "      <td>0.0</td>\n",
       "      <td>1</td>\n",
       "      <td>T1 x Nerd Street Gamers Invitational</td>\n",
       "      <td>Tournament: Lower Round 1</td>\n",
       "    </tr>\n",
       "  </tbody>\n",
       "</table>\n",
       "<p>12178 rows × 7 columns</p>\n",
       "</div>"
      ],
      "text/plain": [
       "       GameID  MatchID     Map  Patch  EventID  \\\n",
       "0       60894    62393  Breeze    3.0      826   \n",
       "1       60895    62393    Bind    3.0      826   \n",
       "2       60896    62393   Haven    3.0      826   \n",
       "3       60924    62403  Icebox    3.0      826   \n",
       "4       60925    62403   Haven    3.0      826   \n",
       "...       ...      ...     ...    ...      ...   \n",
       "12173      65       48     TBD    0.0        6   \n",
       "12174      67       50     TBD    0.0        6   \n",
       "12175      49       33   Split    0.0        1   \n",
       "12176      43       29    Bind    0.0        1   \n",
       "12177      42       28    Bind    0.0        1   \n",
       "\n",
       "                                               EventName  \\\n",
       "0      Nerd Street Gamers Winter Championship - Regio...   \n",
       "1      Nerd Street Gamers Winter Championship - Regio...   \n",
       "2      Nerd Street Gamers Winter Championship - Regio...   \n",
       "3      Nerd Street Gamers Winter Championship - Regio...   \n",
       "4      Nerd Street Gamers Winter Championship - Regio...   \n",
       "...                                                  ...   \n",
       "12173                             Fnatic Proving Grounds   \n",
       "12174                             Fnatic Proving Grounds   \n",
       "12175               T1 x Nerd Street Gamers Invitational   \n",
       "12176               T1 x Nerd Street Gamers Invitational   \n",
       "12177               T1 x Nerd Street Gamers Invitational   \n",
       "\n",
       "                       EventStage  \n",
       "0        Group Stage: Decider (A)  \n",
       "1        Group Stage: Decider (A)  \n",
       "2        Group Stage: Decider (A)  \n",
       "3        Group Stage: Decider (C)  \n",
       "4        Group Stage: Decider (C)  \n",
       "...                           ...  \n",
       "12173     Tournament: Round of 16  \n",
       "12174     Tournament: Round of 16  \n",
       "12175     Tournament: Lower Final  \n",
       "12176   Tournament: Lower Round 2  \n",
       "12177  Tournament: Lower Round 1   \n",
       "\n",
       "[12178 rows x 7 columns]"
      ]
     },
     "execution_count": 18,
     "metadata": {},
     "output_type": "execute_result"
    }
   ],
   "source": [
    "dfTour['Patch'] = dfTour['Patch'].str.extract(r'(\\d)\\.\\d+').astype(float)\n",
    "dfTour"
   ]
  },
  {
   "cell_type": "code",
   "execution_count": 19,
   "metadata": {},
   "outputs": [
    {
     "data": {
      "text/plain": [
       "Patch\n",
       "3.0    4347\n",
       "2.0    4248\n",
       "1.0    3477\n",
       "0.0     106\n",
       "Name: count, dtype: int64"
      ]
     },
     "execution_count": 19,
     "metadata": {},
     "output_type": "execute_result"
    }
   ],
   "source": [
    "dfTour['Patch'].value_counts()"
   ]
  },
  {
   "cell_type": "code",
   "execution_count": 20,
   "metadata": {},
   "outputs": [],
   "source": [
    "tour_patch0 = dfTour[(dfTour['Patch'] == 0.0) & (dfTour['Map'] != 'TBD')]\n",
    "tour_patch1 = dfTour[(dfTour['Patch'] == 1.0) & (dfTour['Map'] != 'TBD')]\n",
    "tour_patch2 = dfTour[(dfTour['Patch'] == 2.0) & (dfTour['Map'] != 'TBD')]\n",
    "tour_patch3 = dfTour[(dfTour['Patch'] == 3.0) & (dfTour['Map'] != 'TBD')]\n",
    "\n",
    "tour_patch_list = [tour_patch0, tour_patch1, tour_patch2, tour_patch3]"
   ]
  },
  {
   "cell_type": "code",
   "execution_count": 21,
   "metadata": {},
   "outputs": [
    {
     "name": "stderr",
     "output_type": "stream",
     "text": [
      "C:\\Users\\vinse\\AppData\\Local\\Temp\\ipykernel_20456\\1941078249.py:5: FutureWarning: \n",
      "\n",
      "Passing `palette` without assigning `hue` is deprecated and will be removed in v0.14.0. Assign the `x` variable to `hue` and set `legend=False` for the same effect.\n",
      "\n",
      "  sns.countplot(data=tour_patch_list[i], x='Map', order=order.index, palette='magma')\n",
      "C:\\Users\\vinse\\AppData\\Local\\Temp\\ipykernel_20456\\1941078249.py:5: FutureWarning: \n",
      "\n",
      "Passing `palette` without assigning `hue` is deprecated and will be removed in v0.14.0. Assign the `x` variable to `hue` and set `legend=False` for the same effect.\n",
      "\n",
      "  sns.countplot(data=tour_patch_list[i], x='Map', order=order.index, palette='magma')\n",
      "C:\\Users\\vinse\\AppData\\Local\\Temp\\ipykernel_20456\\1941078249.py:5: FutureWarning: \n",
      "\n",
      "Passing `palette` without assigning `hue` is deprecated and will be removed in v0.14.0. Assign the `x` variable to `hue` and set `legend=False` for the same effect.\n",
      "\n",
      "  sns.countplot(data=tour_patch_list[i], x='Map', order=order.index, palette='magma')\n",
      "C:\\Users\\vinse\\AppData\\Local\\Temp\\ipykernel_20456\\1941078249.py:5: FutureWarning: \n",
      "\n",
      "Passing `palette` without assigning `hue` is deprecated and will be removed in v0.14.0. Assign the `x` variable to `hue` and set `legend=False` for the same effect.\n",
      "\n",
      "  sns.countplot(data=tour_patch_list[i], x='Map', order=order.index, palette='magma')\n"
     ]
    },
    {
     "data": {
      "image/png": "[encoded data removed]",
      "text/plain": [
       "<Figure size 2000x1200 with 4 Axes>"
      ]
     },
     "metadata": {},
     "output_type": "display_data"
    }
   ],
   "source": [
    "plt.figure(figsize=(20, 12))\n",
    "for i in range(4):\n",
    "    order = tour_patch_list[i]['Map'].value_counts()\n",
    "    plt.subplot(2, 2, i+1)\n",
    "    sns.countplot(data=tour_patch_list[i], x='Map', order=order.index, palette='magma')\n",
    "    plt.title(f'Map paling populer di Tournament Patch {i}.x')\n",
    "    plt.xlabel('Map')\n",
    "    plt.ylabel('Jumlah Penggunaan')\n",
    "\n",
    "plt.show()"
   ]
  },
  {
   "cell_type": "code",
   "execution_count": 22,
   "metadata": {},
   "outputs": [
    {
     "ename": "NameError",
     "evalue": "name 'map_played_counts' is not defined",
     "output_type": "error",
     "traceback": [
      "\u001b[1;31m---------------------------------------------------------------------------\u001b[0m",
      "\u001b[1;31mNameError\u001b[0m                                 Traceback (most recent call last)",
      "\u001b[1;32mc:\\Users\\vinse\\Desktop\\KULIAH\\KASDAD\\TK\\1e.ipynb Cell 26\u001b[0m line \u001b[0;36m1\n\u001b[1;32m----> <a href='vscode-notebook-cell:/c%3A/Users/vinse/Desktop/KULIAH/KASDAD/TK/1e.ipynb#X34sZmlsZQ%3D%3D?line=0'>1</a>\u001b[0m sns\u001b[39m.\u001b[39mcountplot(dfTour, x\u001b[39m=\u001b[39m\u001b[39m'\u001b[39m\u001b[39mMap\u001b[39m\u001b[39m'\u001b[39m, order\u001b[39m=\u001b[39mmap_played_counts\u001b[39m.\u001b[39mindex, palette\u001b[39m=\u001b[39m\u001b[39m'\u001b[39m\u001b[39mmagma\u001b[39m\u001b[39m'\u001b[39m)\u001b[39m.\u001b[39mset_ylim(\u001b[39m0\u001b[39m,\u001b[39m4000\u001b[39m)\n\u001b[0;32m      <a href='vscode-notebook-cell:/c%3A/Users/vinse/Desktop/KULIAH/KASDAD/TK/1e.ipynb#X34sZmlsZQ%3D%3D?line=1'>2</a>\u001b[0m plt\u001b[39m.\u001b[39mtitle(\u001b[39m'\u001b[39m\u001b[39mMap yang paling sering digunakan dalam Tournament\u001b[39m\u001b[39m'\u001b[39m)\n\u001b[0;32m      <a href='vscode-notebook-cell:/c%3A/Users/vinse/Desktop/KULIAH/KASDAD/TK/1e.ipynb#X34sZmlsZQ%3D%3D?line=2'>3</a>\u001b[0m plt\u001b[39m.\u001b[39mxlabel(\u001b[39m'\u001b[39m\u001b[39mMap\u001b[39m\u001b[39m'\u001b[39m)\n",
      "\u001b[1;31mNameError\u001b[0m: name 'map_played_counts' is not defined"
     ]
    }
   ],
   "source": [
    "sns.countplot(dfTour, x='Map', order=map_played_counts.index, palette='magma').set_ylim(0,4000)\n",
    "plt.title('Map yang paling sering digunakan dalam Tournament')\n",
    "plt.xlabel('Map')\n",
    "plt.ylabel('Jumlah Penggunaan')\n",
    "plt.show()"
   ]
  },
  {
   "cell_type": "code",
   "execution_count": null,
   "metadata": {},
   "outputs": [
    {
     "name": "stdout",
     "output_type": "stream",
     "text": [
      "Berdasarkan dataset tersebut, Map yang paling sering digunakan dalam tournament Valorant adalah Ascent\n",
      "Dengan jumlah game yang dimainkan di map tersebut sebanyak 2977\n"
     ]
    }
   ],
   "source": [
    "print(\"Berdasarkan dataset tersebut, Map yang paling sering digunakan dalam tournament Valorant adalah\", map_played_counts.index[0])\n",
    "print(\"Dengan jumlah game yang dimainkan di map tersebut sebanyak\", map_played_counts.values[0])"
   ]
  }
 ],
 "metadata": {
  "kernelspec": {
   "display_name": "env",
   "language": "python",
   "name": "python3"
  },
  "language_info": {
   "codemirror_mode": {
    "name": "ipython",
    "version": 3
   },
   "file_extension": ".py",
   "mimetype": "text/x-python",
   "name": "python",
   "nbconvert_exporter": "python",
   "pygments_lexer": "ipython3",
   "version": "3.10.0"
  }
 },
 "nbformat": 4,
 "nbformat_minor": 2
}
