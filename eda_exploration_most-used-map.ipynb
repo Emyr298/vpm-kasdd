{
 "cells": [
  {
   "cell_type": "markdown",
   "metadata": {},
   "source": [
    "# KASDD TK | a\n",
    "Siapa tim yang paling banyak memenangkan pertandingan grand final dari sebuah Event"
   ]
  },
  {
   "cell_type": "code",
   "execution_count": 25,
   "metadata": {},
   "outputs": [
    {
     "name": "stdout",
     "output_type": "stream",
     "text": [
      "Requirement already satisfied: pandas in c:\\users\\vinse\\desktop\\kuliah\\kasdad\\tk-kasdad\\env\\lib\\site-packages (2.1.2)\n",
      "Requirement already satisfied: numpy<2,>=1.22.4 in c:\\users\\vinse\\desktop\\kuliah\\kasdad\\tk-kasdad\\env\\lib\\site-packages (from pandas) (1.26.1)\n",
      "Requirement already satisfied: python-dateutil>=2.8.2 in c:\\users\\vinse\\desktop\\kuliah\\kasdad\\tk-kasdad\\env\\lib\\site-packages (from pandas) (2.8.2)\n",
      "Requirement already satisfied: pytz>=2020.1 in c:\\users\\vinse\\desktop\\kuliah\\kasdad\\tk-kasdad\\env\\lib\\site-packages (from pandas) (2023.3.post1)\n",
      "Requirement already satisfied: tzdata>=2022.1 in c:\\users\\vinse\\desktop\\kuliah\\kasdad\\tk-kasdad\\env\\lib\\site-packages (from pandas) (2023.3)\n",
      "Requirement already satisfied: six>=1.5 in c:\\users\\vinse\\desktop\\kuliah\\kasdad\\tk-kasdad\\env\\lib\\site-packages (from python-dateutil>=2.8.2->pandas) (1.16.0)\n",
      "Note: you may need to restart the kernel to use updated packages.\n"
     ]
    },
    {
     "name": "stderr",
     "output_type": "stream",
     "text": [
      "\n",
      "[notice] A new release of pip is available: 23.2.1 -> 23.3.2\n",
      "[notice] To update, run: python.exe -m pip install --upgrade pip\n"
     ]
    },
    {
     "name": "stdout",
     "output_type": "stream",
     "text": [
      "Requirement already satisfied: numpy in c:\\users\\vinse\\desktop\\kuliah\\kasdad\\tk-kasdad\\env\\lib\\site-packages (1.26.1)\n",
      "Note: you may need to restart the kernel to use updated packages.\n"
     ]
    },
    {
     "name": "stderr",
     "output_type": "stream",
     "text": [
      "\n",
      "[notice] A new release of pip is available: 23.2.1 -> 23.3.2\n",
      "[notice] To update, run: python.exe -m pip install --upgrade pip\n"
     ]
    },
    {
     "name": "stdout",
     "output_type": "stream",
     "text": [
      "Requirement already satisfied: scipy in c:\\users\\vinse\\desktop\\kuliah\\kasdad\\tk-kasdad\\env\\lib\\site-packages (1.11.3)\n",
      "Requirement already satisfied: numpy<1.28.0,>=1.21.6 in c:\\users\\vinse\\desktop\\kuliah\\kasdad\\tk-kasdad\\env\\lib\\site-packages (from scipy) (1.26.1)\n",
      "Note: you may need to restart the kernel to use updated packages.\n"
     ]
    },
    {
     "name": "stderr",
     "output_type": "stream",
     "text": [
      "\n",
      "[notice] A new release of pip is available: 23.2.1 -> 23.3.2\n",
      "[notice] To update, run: python.exe -m pip install --upgrade pip\n"
     ]
    },
    {
     "name": "stdout",
     "output_type": "stream",
     "text": [
      "Requirement already satisfied: pandas in c:\\users\\vinse\\desktop\\kuliah\\kasdad\\tk-kasdad\\env\\lib\\site-packages (2.1.2)\n",
      "Requirement already satisfied: numpy in c:\\users\\vinse\\desktop\\kuliah\\kasdad\\tk-kasdad\\env\\lib\\site-packages (1.26.1)\n",
      "Requirement already satisfied: seaborn in c:\\users\\vinse\\desktop\\kuliah\\kasdad\\tk-kasdad\\env\\lib\\site-packages (0.13.0)\n",
      "Requirement already satisfied: scipy in c:\\users\\vinse\\desktop\\kuliah\\kasdad\\tk-kasdad\\env\\lib\\site-packages (1.11.3)\n",
      "Requirement already satisfied: plotly in c:\\users\\vinse\\desktop\\kuliah\\kasdad\\tk-kasdad\\env\\lib\\site-packages (5.18.0)\n",
      "Requirement already satisfied: matplotlib in c:\\users\\vinse\\desktop\\kuliah\\kasdad\\tk-kasdad\\env\\lib\\site-packages (3.8.1)\n",
      "Requirement already satisfied: python-dateutil>=2.8.2 in c:\\users\\vinse\\desktop\\kuliah\\kasdad\\tk-kasdad\\env\\lib\\site-packages (from pandas) (2.8.2)\n",
      "Requirement already satisfied: pytz>=2020.1 in c:\\users\\vinse\\desktop\\kuliah\\kasdad\\tk-kasdad\\env\\lib\\site-packages (from pandas) (2023.3.post1)\n",
      "Requirement already satisfied: tzdata>=2022.1 in c:\\users\\vinse\\desktop\\kuliah\\kasdad\\tk-kasdad\\env\\lib\\site-packages (from pandas) (2023.3)\n",
      "Requirement already satisfied: tenacity>=6.2.0 in c:\\users\\vinse\\desktop\\kuliah\\kasdad\\tk-kasdad\\env\\lib\\site-packages (from plotly) (8.2.3)\n",
      "Requirement already satisfied: packaging in c:\\users\\vinse\\desktop\\kuliah\\kasdad\\tk-kasdad\\env\\lib\\site-packages (from plotly) (23.2)\n",
      "Requirement already satisfied: contourpy>=1.0.1 in c:\\users\\vinse\\desktop\\kuliah\\kasdad\\tk-kasdad\\env\\lib\\site-packages (from matplotlib) (1.2.0)\n",
      "Requirement already satisfied: cycler>=0.10 in c:\\users\\vinse\\desktop\\kuliah\\kasdad\\tk-kasdad\\env\\lib\\site-packages (from matplotlib) (0.12.1)\n",
      "Requirement already satisfied: fonttools>=4.22.0 in c:\\users\\vinse\\desktop\\kuliah\\kasdad\\tk-kasdad\\env\\lib\\site-packages (from matplotlib) (4.44.0)\n",
      "Requirement already satisfied: kiwisolver>=1.3.1 in c:\\users\\vinse\\desktop\\kuliah\\kasdad\\tk-kasdad\\env\\lib\\site-packages (from matplotlib) (1.4.5)\n",
      "Requirement already satisfied: pillow>=8 in c:\\users\\vinse\\desktop\\kuliah\\kasdad\\tk-kasdad\\env\\lib\\site-packages (from matplotlib) (10.1.0)\n",
      "Requirement already satisfied: pyparsing>=2.3.1 in c:\\users\\vinse\\desktop\\kuliah\\kasdad\\tk-kasdad\\env\\lib\\site-packages (from matplotlib) (3.1.1)\n",
      "Requirement already satisfied: six>=1.5 in c:\\users\\vinse\\desktop\\kuliah\\kasdad\\tk-kasdad\\env\\lib\\site-packages (from python-dateutil>=2.8.2->pandas) (1.16.0)\n",
      "Note: you may need to restart the kernel to use updated packages.\n"
     ]
    },
    {
     "name": "stderr",
     "output_type": "stream",
     "text": [
      "\n",
      "[notice] A new release of pip is available: 23.2.1 -> 23.3.2\n",
      "[notice] To update, run: python.exe -m pip install --upgrade pip\n"
     ]
    }
   ],
   "source": [
    "%pip install pandas\n",
    "%pip install numpy\n",
    "%pip install scipy\n",
    "%pip install pandas numpy seaborn scipy plotly matplotlib   "
   ]
  },
  {
   "cell_type": "code",
   "execution_count": 26,
   "metadata": {},
   "outputs": [],
   "source": [
    "REFERENCE = [\n",
    "    'https://pandas.pydata.org/pandas-docs/stable/user_guide/indexing.html#returning-a-view-versus-a-copy',\n",
    "    \n",
    "    ]"
   ]
  },
  {
   "cell_type": "code",
   "execution_count": 27,
   "metadata": {},
   "outputs": [],
   "source": [
    "# Import semua library yang dibutuhkan\n",
    "import pandas as pd\n",
    "import numpy as np\n",
    "import scipy.stats as scp\n",
    "import seaborn as sns\n",
    "import plotly.express as px\n",
    "import matplotlib.pyplot as plt"
   ]
  },
  {
   "cell_type": "code",
   "execution_count": 28,
   "metadata": {},
   "outputs": [],
   "source": [
    "# mencari jumlah nilai unik pada kolom yang bertipe kategorik\n",
    "def check_uniqueness(df):\n",
    "    for col in df.select_dtypes(include=object).columns:\n",
    "        print('No. of unique values in column '+col+':')\n",
    "        print(df[col].value_counts(),'\\n')\n",
    "        \n",
    "# mengecek nilai null\n",
    "def check_null(df):\n",
    "    col_na = df.isnull().sum().sort_values(ascending=True)\n",
    "    percent = col_na / len(df)\n",
    "    missing_data = pd.concat([col_na, percent], axis=1, keys=['Total', 'Percent'])\n",
    "\n",
    "    if (missing_data[missing_data['Total'] > 0].shape[0] == 0):\n",
    "        print(\"Tidak ditemukan missing value pada dataset\")\n",
    "    else:\n",
    "        print(missing_data[missing_data['Total'] > 0])\n",
    "\n",
    "# mengecek nilai duplikat\n",
    "def check_duplicates(df):\n",
    "    dup = df.duplicated()\n",
    "    print(\"Jumlah duplikasi data : \" + str(dup.sum()))\n",
    "\n",
    "# mengecek keberadaan outlier (harus numerik)\n",
    "def check_outlier(df):\n",
    "    Q1 = df.quantile(0.25)\n",
    "    Q3 = df.quantile(0.75)\n",
    "\n",
    "    # Menghitung RUB dan RLB.\n",
    "    IQR = Q3 - Q1\n",
    "    lower_limit = Q1 - 1.5*IQR\n",
    "    upper_limit = Q3 + 1.5*IQR\n",
    "\n",
    "    # Menampilkan banyaknya outlier pada atribut.\n",
    "    outliers = (df < lower_limit) | (df > upper_limit)\n",
    "    print (\"Outlier pada tiap atribut:\")\n",
    "    print(outliers.sum())\n",
    "    \n",
    "    print(\"Persentase outlier terhadap data per kolom\")\n",
    "    for col in outliers.keys():\n",
    "        percentage = outliers[col] / len(df)\n",
    "        print(col)\n",
    "        print(percentage)\n",
    "        print()\n",
    "\n",
    "    return outliers\n",
    "\n",
    "# Cek nilai outlier & mengembalikan list nama kolom dengan outlier\n",
    "def outlier_col(dict, total_data):\n",
    "    outlier_col = []\n",
    "\n",
    "    print(\"Persentase outlier terhadap data per kolom\")\n",
    "    for col in dict.keys():\n",
    "        percentage = dic[col] / total_data\n",
    "        if 0 < percentage < 1:\n",
    "            outlier_col.append(col)\n",
    "    return outlier_col\n",
    "\n",
    "def drop_outlier(col_to_check, df):\n",
    "    Q1 = df[col_to_check].quantile(0.25)\n",
    "    Q3 = df[col_to_check].quantile(0.75)\n",
    "\n",
    "    # Menghitung RUB dan RLB.\n",
    "    IQR = Q3 - Q1\n",
    "    lower_limit = Q1 - 1.5*IQR\n",
    "    upper_limit = Q3 + 1.5*IQR\n",
    "\n",
    "    mask = (df[col_to_check] >= lower_limit) & (df[col_to_check] <= upper_limit)\n",
    "    new_df = df[mask]\n",
    "    return new_df"
   ]
  },
  {
   "cell_type": "markdown",
   "metadata": {},
   "source": [
    "# Read Dataset"
   ]
  },
  {
   "cell_type": "code",
   "execution_count": 29,
   "metadata": {},
   "outputs": [
    {
     "data": {
      "text/html": [
       "<div>\n",
       "<style scoped>\n",
       "    .dataframe tbody tr th:only-of-type {\n",
       "        vertical-align: middle;\n",
       "    }\n",
       "\n",
       "    .dataframe tbody tr th {\n",
       "        vertical-align: top;\n",
       "    }\n",
       "\n",
       "    .dataframe thead th {\n",
       "        text-align: right;\n",
       "    }\n",
       "</style>\n",
       "<table border=\"1\" class=\"dataframe\">\n",
       "  <thead>\n",
       "    <tr style=\"text-align: right;\">\n",
       "      <th></th>\n",
       "      <th>GameID</th>\n",
       "      <th>PlayerID</th>\n",
       "      <th>PlayerName</th>\n",
       "      <th>TeamAbbreviation</th>\n",
       "      <th>Agent</th>\n",
       "      <th>ACS</th>\n",
       "      <th>Kills</th>\n",
       "      <th>Deaths</th>\n",
       "      <th>Assists</th>\n",
       "      <th>PlusMinus</th>\n",
       "      <th>...</th>\n",
       "      <th>Patch</th>\n",
       "      <th>EventID</th>\n",
       "      <th>EventName</th>\n",
       "      <th>EventStage</th>\n",
       "      <th>Team1ID</th>\n",
       "      <th>Team2ID</th>\n",
       "      <th>Team1</th>\n",
       "      <th>Team2</th>\n",
       "      <th>Team1_MapScore</th>\n",
       "      <th>Team2_MapScore</th>\n",
       "    </tr>\n",
       "  </thead>\n",
       "  <tbody>\n",
       "    <tr>\n",
       "      <th>0</th>\n",
       "      <td>60894</td>\n",
       "      <td>8419.0</td>\n",
       "      <td>Reduxx</td>\n",
       "      <td>Boos</td>\n",
       "      <td>jett</td>\n",
       "      <td>313.0</td>\n",
       "      <td>24.0</td>\n",
       "      <td>10.0</td>\n",
       "      <td>3.0</td>\n",
       "      <td>14.0</td>\n",
       "      <td>...</td>\n",
       "      <td>3.0</td>\n",
       "      <td>826</td>\n",
       "      <td>Nerd Street Gamers Winter Championship - Regio...</td>\n",
       "      <td>Group Stage: Decider (A)</td>\n",
       "      <td>6903</td>\n",
       "      <td>6020</td>\n",
       "      <td>Booster Seat Gaming</td>\n",
       "      <td>Pho Real</td>\n",
       "      <td>2</td>\n",
       "      <td>1</td>\n",
       "    </tr>\n",
       "    <tr>\n",
       "      <th>1</th>\n",
       "      <td>60894</td>\n",
       "      <td>466.0</td>\n",
       "      <td>ChurmZ</td>\n",
       "      <td>Boos</td>\n",
       "      <td>chamber</td>\n",
       "      <td>227.0</td>\n",
       "      <td>16.0</td>\n",
       "      <td>10.0</td>\n",
       "      <td>7.0</td>\n",
       "      <td>6.0</td>\n",
       "      <td>...</td>\n",
       "      <td>3.0</td>\n",
       "      <td>826</td>\n",
       "      <td>Nerd Street Gamers Winter Championship - Regio...</td>\n",
       "      <td>Group Stage: Decider (A)</td>\n",
       "      <td>6903</td>\n",
       "      <td>6020</td>\n",
       "      <td>Booster Seat Gaming</td>\n",
       "      <td>Pho Real</td>\n",
       "      <td>2</td>\n",
       "      <td>1</td>\n",
       "    </tr>\n",
       "    <tr>\n",
       "      <th>2</th>\n",
       "      <td>60894</td>\n",
       "      <td>3712.0</td>\n",
       "      <td>diaamond</td>\n",
       "      <td>Boos</td>\n",
       "      <td>sova</td>\n",
       "      <td>226.0</td>\n",
       "      <td>17.0</td>\n",
       "      <td>9.0</td>\n",
       "      <td>8.0</td>\n",
       "      <td>8.0</td>\n",
       "      <td>...</td>\n",
       "      <td>3.0</td>\n",
       "      <td>826</td>\n",
       "      <td>Nerd Street Gamers Winter Championship - Regio...</td>\n",
       "      <td>Group Stage: Decider (A)</td>\n",
       "      <td>6903</td>\n",
       "      <td>6020</td>\n",
       "      <td>Booster Seat Gaming</td>\n",
       "      <td>Pho Real</td>\n",
       "      <td>2</td>\n",
       "      <td>1</td>\n",
       "    </tr>\n",
       "    <tr>\n",
       "      <th>3</th>\n",
       "      <td>60894</td>\n",
       "      <td>5099.0</td>\n",
       "      <td>Boltzy</td>\n",
       "      <td>Boos</td>\n",
       "      <td>viper</td>\n",
       "      <td>218.0</td>\n",
       "      <td>17.0</td>\n",
       "      <td>12.0</td>\n",
       "      <td>2.0</td>\n",
       "      <td>5.0</td>\n",
       "      <td>...</td>\n",
       "      <td>3.0</td>\n",
       "      <td>826</td>\n",
       "      <td>Nerd Street Gamers Winter Championship - Regio...</td>\n",
       "      <td>Group Stage: Decider (A)</td>\n",
       "      <td>6903</td>\n",
       "      <td>6020</td>\n",
       "      <td>Booster Seat Gaming</td>\n",
       "      <td>Pho Real</td>\n",
       "      <td>2</td>\n",
       "      <td>1</td>\n",
       "    </tr>\n",
       "    <tr>\n",
       "      <th>4</th>\n",
       "      <td>60894</td>\n",
       "      <td>3983.0</td>\n",
       "      <td>Virtyy</td>\n",
       "      <td>Boos</td>\n",
       "      <td>skye</td>\n",
       "      <td>80.0</td>\n",
       "      <td>5.0</td>\n",
       "      <td>13.0</td>\n",
       "      <td>3.0</td>\n",
       "      <td>-8.0</td>\n",
       "      <td>...</td>\n",
       "      <td>3.0</td>\n",
       "      <td>826</td>\n",
       "      <td>Nerd Street Gamers Winter Championship - Regio...</td>\n",
       "      <td>Group Stage: Decider (A)</td>\n",
       "      <td>6903</td>\n",
       "      <td>6020</td>\n",
       "      <td>Booster Seat Gaming</td>\n",
       "      <td>Pho Real</td>\n",
       "      <td>2</td>\n",
       "      <td>1</td>\n",
       "    </tr>\n",
       "  </tbody>\n",
       "</table>\n",
       "<p>5 rows × 51 columns</p>\n",
       "</div>"
      ],
      "text/plain": [
       "   GameID  PlayerID PlayerName TeamAbbreviation    Agent    ACS  Kills  \\\n",
       "0   60894    8419.0     Reduxx             Boos     jett  313.0   24.0   \n",
       "1   60894     466.0     ChurmZ             Boos  chamber  227.0   16.0   \n",
       "2   60894    3712.0   diaamond             Boos     sova  226.0   17.0   \n",
       "3   60894    5099.0     Boltzy             Boos    viper  218.0   17.0   \n",
       "4   60894    3983.0     Virtyy             Boos     skye   80.0    5.0   \n",
       "\n",
       "   Deaths  Assists  PlusMinus  ...  Patch  EventID  \\\n",
       "0    10.0      3.0       14.0  ...    3.0      826   \n",
       "1    10.0      7.0        6.0  ...    3.0      826   \n",
       "2     9.0      8.0        8.0  ...    3.0      826   \n",
       "3    12.0      2.0        5.0  ...    3.0      826   \n",
       "4    13.0      3.0       -8.0  ...    3.0      826   \n",
       "\n",
       "                                           EventName  \\\n",
       "0  Nerd Street Gamers Winter Championship - Regio...   \n",
       "1  Nerd Street Gamers Winter Championship - Regio...   \n",
       "2  Nerd Street Gamers Winter Championship - Regio...   \n",
       "3  Nerd Street Gamers Winter Championship - Regio...   \n",
       "4  Nerd Street Gamers Winter Championship - Regio...   \n",
       "\n",
       "                 EventStage  Team1ID  Team2ID                Team1     Team2  \\\n",
       "0  Group Stage: Decider (A)     6903     6020  Booster Seat Gaming  Pho Real   \n",
       "1  Group Stage: Decider (A)     6903     6020  Booster Seat Gaming  Pho Real   \n",
       "2  Group Stage: Decider (A)     6903     6020  Booster Seat Gaming  Pho Real   \n",
       "3  Group Stage: Decider (A)     6903     6020  Booster Seat Gaming  Pho Real   \n",
       "4  Group Stage: Decider (A)     6903     6020  Booster Seat Gaming  Pho Real   \n",
       "\n",
       "   Team1_MapScore  Team2_MapScore  \n",
       "0               2               1  \n",
       "1               2               1  \n",
       "2               2               1  \n",
       "3               2               1  \n",
       "4               2               1  \n",
       "\n",
       "[5 rows x 51 columns]"
      ]
     },
     "execution_count": 29,
     "metadata": {},
     "output_type": "execute_result"
    }
   ],
   "source": [
    "df = pd.read_csv('dataset_final/final_dataset.csv')\n",
    "df.head()"
   ]
  },
  {
   "cell_type": "code",
   "execution_count": 30,
   "metadata": {},
   "outputs": [],
   "source": [
    "tour_patch1 = df[(df['Patch'] == 1.0)]\n",
    "tour_patch2 = df[(df['Patch'] == 2.0)]\n",
    "tour_patch3 = df[(df['Patch'] == 3.0)]\n",
    "\n",
    "tour_patch_list = [tour_patch1, tour_patch2, tour_patch3]"
   ]
  },
  {
   "cell_type": "code",
   "execution_count": 44,
   "metadata": {},
   "outputs": [
    {
     "name": "stderr",
     "output_type": "stream",
     "text": [
      "C:\\Users\\vinse\\AppData\\Local\\Temp\\ipykernel_4748\\2984422808.py:4: FutureWarning: \n",
      "\n",
      "Passing `palette` without assigning `hue` is deprecated and will be removed in v0.14.0. Assign the `x` variable to `hue` and set `legend=False` for the same effect.\n",
      "\n",
      "  sns.countplot(data=tour_patch_list[i], x='Map', order=order.index, palette='magma')\n"
     ]
    },
    {
     "data": {
      "image/png": "[encoded data removed]",
      "text/plain": [
       "<Figure size 1000x1100 with 1 Axes>"
      ]
     },
     "metadata": {},
     "output_type": "display_data"
    }
   ],
   "source": [
    "plt.figure(figsize=(10, 11))\n",
    "for i in range(2, 3):\n",
    "    order = tour_patch_list[i]['Map'].value_counts()\n",
    "    sns.countplot(data=tour_patch_list[i], x='Map', order=order.index, palette='magma')\n",
    "    plt.title(f'Map paling populer di Tournament Patch {i+1}.x')\n",
    "    plt.xlabel('Map')\n",
    "    plt.ylabel('Jumlah Penggunaan')\n",
    "    plt.show()"
   ]
  },
  {
   "cell_type": "code",
   "execution_count": 32,
   "metadata": {},
   "outputs": [
    {
     "name": "stderr",
     "output_type": "stream",
     "text": [
      "C:\\Users\\vinse\\AppData\\Local\\Temp\\ipykernel_4748\\136764606.py:1: FutureWarning: \n",
      "\n",
      "Passing `palette` without assigning `hue` is deprecated and will be removed in v0.14.0. Assign the `x` variable to `hue` and set `legend=False` for the same effect.\n",
      "\n",
      "  sns.countplot(df, x='Map', order=order.index, palette='magma').set_ylim(0,4000)\n"
     ]
    },
    {
     "data": {
      "image/png": "[encoded data removed]",
      "text/plain": [
       "<Figure size 640x480 with 1 Axes>"
      ]
     },
     "metadata": {},
     "output_type": "display_data"
    }
   ],
   "source": [
    "sns.countplot(df, x='Map', order=map_played_counts.index, palette='magma').set_ylim(0,4000)\n",
    "plt.title('Map yang paling sering digunakan dalam Tournament')\n",
    "plt.xlabel('Map')\n",
    "plt.ylabel('Jumlah Penggunaan')\n",
    "plt.show()"
   ]
  },
  {
   "cell_type": "code",
   "execution_count": 33,
   "metadata": {},
   "outputs": [
    {
     "ename": "NameError",
     "evalue": "name 'map_played_counts' is not defined",
     "output_type": "error",
     "traceback": [
      "\u001b[1;31m---------------------------------------------------------------------------\u001b[0m",
      "\u001b[1;31mNameError\u001b[0m                                 Traceback (most recent call last)",
      "Cell \u001b[1;32mIn[33], line 1\u001b[0m\n\u001b[1;32m----> 1\u001b[0m \u001b[38;5;28mprint\u001b[39m(\u001b[38;5;124m\"\u001b[39m\u001b[38;5;124mBerdasarkan dataset tersebut, Map yang paling sering digunakan dalam tournament Valorant adalah\u001b[39m\u001b[38;5;124m\"\u001b[39m, \u001b[43mmap_played_counts\u001b[49m\u001b[38;5;241m.\u001b[39mindex[\u001b[38;5;241m0\u001b[39m])\n\u001b[0;32m      2\u001b[0m \u001b[38;5;28mprint\u001b[39m(\u001b[38;5;124m\"\u001b[39m\u001b[38;5;124mDengan jumlah game yang dimainkan di map tersebut sebanyak\u001b[39m\u001b[38;5;124m\"\u001b[39m, map_played_counts\u001b[38;5;241m.\u001b[39mvalues[\u001b[38;5;241m0\u001b[39m])\n",
      "\u001b[1;31mNameError\u001b[0m: name 'map_played_counts' is not defined"
     ]
    }
   ],
   "source": [
    "print(\"Berdasarkan dataset tersebut, Map yang paling sering digunakan dalam tournament Valorant adalah\", map_played_counts.index[0])\n",
    "print(\"Dengan jumlah game yang dimainkan di map tersebut sebanyak\", map_played_counts.values[0])"
   ]
  }
 ],
 "metadata": {
  "kernelspec": {
   "display_name": "env",
   "language": "python",
   "name": "python3"
  },
  "language_info": {
   "codemirror_mode": {
    "name": "ipython",
    "version": 3
   },
   "file_extension": ".py",
   "mimetype": "text/x-python",
   "name": "python",
   "nbconvert_exporter": "python",
   "pygments_lexer": "ipython3",
   "version": "3.10.0"
  }
 },
 "nbformat": 4,
 "nbformat_minor": 2
}
